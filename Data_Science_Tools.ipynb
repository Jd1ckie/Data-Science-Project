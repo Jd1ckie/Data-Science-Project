{
 "cells": [
  {
   "cell_type": "markdown",
   "id": "9cef09f3",
   "metadata": {},
   "source": [
    "# Data Science Tools and Ecosystem"
   ]
  },
  {
   "cell_type": "markdown",
   "id": "da645f13",
   "metadata": {},
   "source": [
    "In this notebook, we will explore some of the most commonly used tools, languages, and libraries in the field of data science."
   ]
  },
  {
   "cell_type": "markdown",
   "id": "e0b7f8f2",
   "metadata": {},
   "source": [
    "## Data Science Languages\n",
    "Some of the popular languages that Data Scientists use are:\n",
    "\n",
    "- Python\n",
    "- R\n",
    "- SQL\n",
    "- Julia\n",
    "- Scala"
   ]
  },
  {
   "cell_type": "markdown",
   "id": "f7c0b267",
   "metadata": {},
   "source": [
    "## Data Science Libraries\n",
    "Some of the commonly used libraries used by Data Scientists include:\n",
    "\n",
    "- Pandas\n",
    "- NumPy\n",
    "- Scikit-learn\n",
    "- TensorFlow\n",
    "- Matplotlib\n",
    "- ggplot2 (for R)"
   ]
  },
  {
   "cell_type": "markdown",
   "id": "6154ca71",
   "metadata": {},
   "source": [
    "## Data Science Tools\n",
    "\n",
    "| Tool            | Category              |\n",
    "|------------------|------------------------|\n",
    "| Jupyter Notebook | Notebook Interface     |\n",
    "| RStudio          | IDE                    |\n",
    "| Apache Spark     | Big Data Processing    |\n",
    "| TensorFlow       | Deep Learning          |\n",
    "| Tableau          | Data Visualization     |"
   ]
  },
  {
   "cell_type": "markdown",
   "id": "58a73bf1",
   "metadata": {},
   "source": [
    "### Examples of Arithmetic Expressions in Python\n",
    "The next cell shows how to perform basic arithmetic operations like multiplication and addition."
   ]
  },
  {
   "cell_type": "code",
   "execution_count": null,
   "id": "acec8c1b",
   "metadata": {},
   "outputs": [],
   "source": [
    "# This is a simple arithmetic expression to multiply then add integers\n",
    "(3 * 4) + 5"
   ]
  },
  {
   "cell_type": "code",
   "execution_count": null,
   "id": "f4da2e6b",
   "metadata": {},
   "outputs": [],
   "source": [
    "# This will convert 200 minutes to hours\n",
    "200 / 60"
   ]
  },
  {
   "cell_type": "markdown",
   "id": "699094ac",
   "metadata": {},
   "source": [
    "### Objectives:\n",
    "- List popular languages for Data Science\n",
    "- Identify commonly used libraries and tools\n",
    "- Demonstrate arithmetic expressions in Python\n",
    "- Convert units using Python code\n",
    "- Share notebook via GitHub"
   ]
  },
  {
   "cell_type": "markdown",
   "id": "899bc2ae",
   "metadata": {},
   "source": [
    "## Author\n",
    "Jason Dickie"
   ]
  }
 ],
 "metadata": {},
 "nbformat": 4,
 "nbformat_minor": 5
}
